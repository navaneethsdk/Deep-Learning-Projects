{
  "nbformat": 4,
  "nbformat_minor": 0,
  "metadata": {
    "colab": {
      "name": "Corona_det.ipynb",
      "provenance": [],
      "collapsed_sections": [],
      "mount_file_id": "1JyQrVLv5LUBt1KRKMmV8jZNLswAlRWJk",
      "authorship_tag": "ABX9TyMSY1MdUIOyLfvKPahXttm+",
      "include_colab_link": true
    },
    "kernelspec": {
      "name": "python3",
      "display_name": "Python 3"
    },
    "accelerator": "GPU"
  },
  "cells": [
    {
      "cell_type": "markdown",
      "metadata": {
        "id": "view-in-github",
        "colab_type": "text"
      },
      "source": [
        "<a href=\"https://colab.research.google.com/github/navaneethsdk/Deep-Learning-Projects/blob/master/Corona_det.ipynb\" target=\"_parent\"><img src=\"https://colab.research.google.com/assets/colab-badge.svg\" alt=\"Open In Colab\"/></a>"
      ]
    },
    {
      "cell_type": "code",
      "metadata": {
        "id": "5H0nTBwaX8KH",
        "colab_type": "code",
        "colab": {
          "base_uri": "https://localhost:8080/",
          "height": 80
        },
        "outputId": "3ceb1850-3736-4c12-f791-40798dcda2aa"
      },
      "source": [
        "# import the necessary packages\n",
        "from tensorflow.keras.preprocessing.image import ImageDataGenerator\n",
        "from tensorflow.keras.applications import VGG16\n",
        "from tensorflow.keras.layers import AveragePooling2D\n",
        "from tensorflow.keras.layers import Dropout\n",
        "from tensorflow.keras.layers import Flatten\n",
        "from tensorflow.keras.layers import Dense\n",
        "from tensorflow.keras.layers import Input\n",
        "from tensorflow.keras.models import Model\n",
        "from tensorflow.keras.optimizers import Adam\n",
        "from tensorflow.keras.utils import to_categorical\n",
        "from sklearn.preprocessing import LabelBinarizer\n",
        "from sklearn.model_selection import train_test_split\n",
        "from sklearn.metrics import classification_report\n",
        "from sklearn.metrics import confusion_matrix\n",
        "from imutils import paths\n",
        "import matplotlib.pyplot as plt\n",
        "import numpy as np\n",
        "import argparse\n",
        "import cv2\n",
        "import os"
      ],
      "execution_count": null,
      "outputs": [
        {
          "output_type": "display_data",
          "data": {
            "text/html": [
              "<p style=\"color: red;\">\n",
              "The default version of TensorFlow in Colab will soon switch to TensorFlow 2.x.<br>\n",
              "We recommend you <a href=\"https://www.tensorflow.org/guide/migrate\" target=\"_blank\">upgrade</a> now \n",
              "or ensure your notebook will continue to use TensorFlow 1.x via the <code>%tensorflow_version 1.x</code> magic:\n",
              "<a href=\"https://colab.research.google.com/notebooks/tensorflow_version.ipynb\" target=\"_blank\">more info</a>.</p>\n"
            ],
            "text/plain": [
              "<IPython.core.display.HTML object>"
            ]
          },
          "metadata": {
            "tags": []
          }
        }
      ]
    },
    {
      "cell_type": "code",
      "metadata": {
        "id": "xwiXMClEYBd4",
        "colab_type": "code",
        "colab": {}
      },
      "source": [
        "INIT_LR = 1e-3\n",
        "EPOCHS = 25\n",
        "BS = 8"
      ],
      "execution_count": null,
      "outputs": []
    },
    {
      "cell_type": "code",
      "metadata": {
        "id": "muQ5iX9oYI7-",
        "colab_type": "code",
        "colab": {
          "base_uri": "https://localhost:8080/",
          "height": 34
        },
        "outputId": "b11e8623-b56b-4643-e611-44e5a87d1490"
      },
      "source": [
        "print(\"[INFO] loading images...\")\n",
        "imagePaths = list(paths.list_images('/content/drive/My Drive/Covid'))\n",
        "data = []\n",
        "labels = []"
      ],
      "execution_count": null,
      "outputs": [
        {
          "output_type": "stream",
          "text": [
            "[INFO] loading images...\n"
          ],
          "name": "stdout"
        }
      ]
    },
    {
      "cell_type": "code",
      "metadata": {
        "id": "D_7zeFIbd7jR",
        "colab_type": "code",
        "colab": {
          "base_uri": "https://localhost:8080/",
          "height": 34
        },
        "outputId": "bf7d3288-8168-4bc8-ff0e-964b6d39d45b"
      },
      "source": [
        "print(len(imagePaths))"
      ],
      "execution_count": null,
      "outputs": [
        {
          "output_type": "stream",
          "text": [
            "50\n"
          ],
          "name": "stdout"
        }
      ]
    },
    {
      "cell_type": "code",
      "metadata": {
        "id": "4I6LG5yHYex_",
        "colab_type": "code",
        "colab": {}
      },
      "source": [
        "for imagePath in imagePaths:\n",
        "\t# extract the class label from the filename\n",
        "\tlabel = imagePath.split(os.path.sep)[-2]\n",
        "\n",
        "\t# load the image, swap color channels, and resize it to be a fixed\n",
        "\t# 224x224 pixels while ignoring aspect ratio\n",
        "\timage = cv2.imread(imagePath)\n",
        "\timage = cv2.cvtColor(image, cv2.COLOR_BGR2RGB)\n",
        "\timage = cv2.resize(image, (224, 224))\n",
        "\n",
        "\t# update the data and labels lists, respectively\n",
        "\tdata.append(image)\n",
        "\tlabels.append(label)\n"
      ],
      "execution_count": null,
      "outputs": []
    },
    {
      "cell_type": "code",
      "metadata": {
        "id": "aZl8xzp0YkjM",
        "colab_type": "code",
        "colab": {
          "base_uri": "https://localhost:8080/",
          "height": 867
        },
        "outputId": "cb167484-1325-498a-fedf-6150d0093bcf"
      },
      "source": [
        "print(labels)\n"
      ],
      "execution_count": null,
      "outputs": [
        {
          "output_type": "stream",
          "text": [
            "[[0. 1.]\n",
            " [0. 1.]\n",
            " [0. 1.]\n",
            " [0. 1.]\n",
            " [0. 1.]\n",
            " [0. 1.]\n",
            " [0. 1.]\n",
            " [0. 1.]\n",
            " [0. 1.]\n",
            " [0. 1.]\n",
            " [0. 1.]\n",
            " [0. 1.]\n",
            " [0. 1.]\n",
            " [0. 1.]\n",
            " [0. 1.]\n",
            " [0. 1.]\n",
            " [0. 1.]\n",
            " [0. 1.]\n",
            " [0. 1.]\n",
            " [0. 1.]\n",
            " [0. 1.]\n",
            " [0. 1.]\n",
            " [0. 1.]\n",
            " [0. 1.]\n",
            " [0. 1.]\n",
            " [1. 0.]\n",
            " [1. 0.]\n",
            " [1. 0.]\n",
            " [1. 0.]\n",
            " [1. 0.]\n",
            " [1. 0.]\n",
            " [1. 0.]\n",
            " [1. 0.]\n",
            " [1. 0.]\n",
            " [1. 0.]\n",
            " [1. 0.]\n",
            " [1. 0.]\n",
            " [1. 0.]\n",
            " [1. 0.]\n",
            " [1. 0.]\n",
            " [1. 0.]\n",
            " [1. 0.]\n",
            " [1. 0.]\n",
            " [1. 0.]\n",
            " [1. 0.]\n",
            " [1. 0.]\n",
            " [1. 0.]\n",
            " [1. 0.]\n",
            " [1. 0.]\n",
            " [1. 0.]]\n"
          ],
          "name": "stdout"
        }
      ]
    },
    {
      "cell_type": "code",
      "metadata": {
        "id": "J9gkhICyZ2Tb",
        "colab_type": "code",
        "colab": {}
      },
      "source": [
        "# convert the data and labels to NumPy arrays while scaling the pixel\n",
        "# intensities to the range [0, 255]\n",
        "data = np.array(data) / 255.0\n",
        "labels = np.array(labels)"
      ],
      "execution_count": null,
      "outputs": []
    },
    {
      "cell_type": "code",
      "metadata": {
        "id": "nfvDLTvtaEV6",
        "colab_type": "code",
        "colab": {}
      },
      "source": [
        "lb = LabelBinarizer()\n",
        "labels = lb.fit_transform(labels)\n",
        "labels = to_categorical(labels)"
      ],
      "execution_count": null,
      "outputs": []
    },
    {
      "cell_type": "code",
      "metadata": {
        "id": "ogd2wbx5ofNo",
        "colab_type": "code",
        "colab": {}
      },
      "source": [
        "# partition the data into training and testing splits using 80% of\n",
        "# the data for training and the remaining 20% for testing\n",
        "(trainX, testX, trainY, testY) = train_test_split(data, labels,\n",
        "\ttest_size=0.20, stratify=labels, random_state=42)\n"
      ],
      "execution_count": null,
      "outputs": []
    },
    {
      "cell_type": "code",
      "metadata": {
        "id": "_iwQLyZqovJ8",
        "colab_type": "code",
        "colab": {}
      },
      "source": [
        "# initialize the training data augmentation object\n",
        "trainAug = ImageDataGenerator(\n",
        "\trotation_range=15,\n",
        "\tfill_mode=\"nearest\")"
      ],
      "execution_count": null,
      "outputs": []
    },
    {
      "cell_type": "code",
      "metadata": {
        "id": "Xbmd3EMPpDNo",
        "colab_type": "code",
        "colab": {
          "base_uri": "https://localhost:8080/",
          "height": 122
        },
        "outputId": "3b0ab0aa-5a57-4a4a-c084-fc8356121e1e"
      },
      "source": [
        "# load the VGG16 network, ensuring the head FC layer sets are left\n",
        "# off\n",
        "baseModel = VGG16(weights=\"imagenet\", include_top=False,\n",
        "\tinput_tensor=Input(shape=(224, 224, 3)))\n",
        "\n",
        "# construct the head of the model that will be placed on top of the\n",
        "# the base model\n",
        "headModel = baseModel.output\n",
        "headModel = AveragePooling2D(pool_size=(4, 4))(headModel)\n",
        "headModel = Flatten(name=\"flatten\")(headModel)\n",
        "headModel = Dense(64, activation=\"relu\")(headModel)\n",
        "headModel = Dropout(0.5)(headModel)\n",
        "headModel = Dense(2, activation=\"softmax\")(headModel)\n",
        "\n",
        "# place the head FC model on top of the base model (this will become\n",
        "# the actual model we will train)\n",
        "model = Model(inputs=baseModel.input, outputs=headModel)\n",
        "\n",
        "# loop over all layers in the base model and freeze them so they will\n",
        "# *not* be updated during the first training process\n",
        "for layer in baseModel.layers:\n",
        "\tlayer.trainable = False"
      ],
      "execution_count": null,
      "outputs": [
        {
          "output_type": "stream",
          "text": [
            "WARNING:tensorflow:From /tensorflow-1.15.0/python3.6/tensorflow_core/python/ops/resource_variable_ops.py:1630: calling BaseResourceVariable.__init__ (from tensorflow.python.ops.resource_variable_ops) with constraint is deprecated and will be removed in a future version.\n",
            "Instructions for updating:\n",
            "If using Keras pass *_constraint arguments to layers.\n",
            "Downloading data from https://github.com/fchollet/deep-learning-models/releases/download/v0.1/vgg16_weights_tf_dim_ordering_tf_kernels_notop.h5\n",
            "58892288/58889256 [==============================] - 2s 0us/step\n"
          ],
          "name": "stdout"
        }
      ]
    },
    {
      "cell_type": "code",
      "metadata": {
        "id": "jAkSX-cFpTBL",
        "colab_type": "code",
        "colab": {
          "base_uri": "https://localhost:8080/",
          "height": 1000
        },
        "outputId": "ad53556f-90b8-400c-c76e-cfb4aa0d68e9"
      },
      "source": [
        "\n",
        "# compile our model\n",
        "print(\"[INFO] compiling model...\")\n",
        "opt = Adam(lr=INIT_LR, decay=INIT_LR / EPOCHS)\n",
        "model.compile(loss=\"binary_crossentropy\", optimizer=opt,\n",
        "\tmetrics=[\"accuracy\"])\n",
        "\n",
        "# train the head of the network\n",
        "print(\"[INFO] training head...\")\n",
        "H = model.fit_generator(\n",
        "\ttrainAug.flow(trainX, trainY, batch_size=BS),\n",
        "\tsteps_per_epoch=len(trainX) // BS,\n",
        "\tvalidation_data=(testX, testY),\n",
        "\tvalidation_steps=len(testX) // BS,\n",
        "\tepochs=EPOCHS)"
      ],
      "execution_count": null,
      "outputs": [
        {
          "output_type": "stream",
          "text": [
            "[INFO] compiling model...\n",
            "[INFO] training head...\n",
            "Epoch 1/25\n",
            "WARNING:tensorflow:From /tensorflow-1.15.0/python3.6/tensorflow_core/python/ops/math_grad.py:1424: where (from tensorflow.python.ops.array_ops) is deprecated and will be removed in a future version.\n",
            "Instructions for updating:\n",
            "Use tf.where in 2.0, which has the same broadcast rule as np.where\n",
            "4/5 [=======================>......] - ETA: 1s - loss: 0.6596 - acc: 0.5625Epoch 1/25\n",
            "10/5 [============================================================] - 1s 67ms/sample - loss: 0.7353 - acc: 0.5000\n",
            "5/5 [==============================] - 8s 2s/step - loss: 0.6488 - acc: 0.5750 - val_loss: 0.7220 - val_acc: 0.5000\n",
            "Epoch 2/25\n",
            "4/5 [=======================>......] - ETA: 0s - loss: 0.9008 - acc: 0.4062Epoch 1/25\n",
            "10/5 [============================================================] - 0s 8ms/sample - loss: 0.7123 - acc: 0.6000\n",
            "5/5 [==============================] - 0s 75ms/step - loss: 0.8400 - acc: 0.4500 - val_loss: 0.6982 - val_acc: 0.6000\n",
            "Epoch 3/25\n",
            "4/5 [=======================>......] - ETA: 0s - loss: 0.7488 - acc: 0.5000Epoch 1/25\n",
            "10/5 [============================================================] - 0s 8ms/sample - loss: 0.6971 - acc: 0.4000\n",
            "5/5 [==============================] - 0s 97ms/step - loss: 0.7637 - acc: 0.4750 - val_loss: 0.6843 - val_acc: 0.4000\n",
            "Epoch 4/25\n",
            "4/5 [=======================>......] - ETA: 0s - loss: 0.7340 - acc: 0.5312Epoch 1/25\n",
            "10/5 [============================================================] - 0s 8ms/sample - loss: 0.6889 - acc: 0.5000\n",
            "5/5 [==============================] - 1s 111ms/step - loss: 0.7580 - acc: 0.5250 - val_loss: 0.6722 - val_acc: 0.5000\n",
            "Epoch 5/25\n",
            "4/5 [=======================>......] - ETA: 0s - loss: 0.8077 - acc: 0.5312Epoch 1/25\n",
            "10/5 [============================================================] - 0s 8ms/sample - loss: 0.6780 - acc: 0.7000\n",
            "5/5 [==============================] - 1s 116ms/step - loss: 0.8010 - acc: 0.5000 - val_loss: 0.6578 - val_acc: 0.7000\n",
            "Epoch 6/25\n",
            "4/5 [=======================>......] - ETA: 0s - loss: 0.7797 - acc: 0.5312Epoch 1/25\n",
            "10/5 [============================================================] - 0s 8ms/sample - loss: 0.6668 - acc: 0.6000\n",
            "5/5 [==============================] - 1s 113ms/step - loss: 0.7610 - acc: 0.5500 - val_loss: 0.6452 - val_acc: 0.6000\n",
            "Epoch 7/25\n",
            "4/5 [=======================>......] - ETA: 0s - loss: 0.5599 - acc: 0.7812Epoch 1/25\n",
            "10/5 [============================================================] - 0s 8ms/sample - loss: 0.6667 - acc: 0.9000\n",
            "5/5 [==============================] - 1s 101ms/step - loss: 0.5831 - acc: 0.7500 - val_loss: 0.6371 - val_acc: 0.9000\n",
            "Epoch 8/25\n",
            "4/5 [=======================>......] - ETA: 0s - loss: 0.6383 - acc: 0.6250Epoch 1/25\n",
            "10/5 [============================================================] - 0s 8ms/sample - loss: 0.6609 - acc: 0.9000\n",
            "5/5 [==============================] - 0s 95ms/step - loss: 0.6298 - acc: 0.6000 - val_loss: 0.6270 - val_acc: 0.9000\n",
            "Epoch 9/25\n",
            "4/5 [=======================>......] - ETA: 0s - loss: 0.6911 - acc: 0.5312Epoch 1/25\n",
            "10/5 [============================================================] - 0s 9ms/sample - loss: 0.6573 - acc: 0.9000\n",
            "5/5 [==============================] - 1s 106ms/step - loss: 0.7061 - acc: 0.5500 - val_loss: 0.6192 - val_acc: 0.9000\n",
            "Epoch 10/25\n",
            "4/5 [=======================>......] - ETA: 0s - loss: 0.5110 - acc: 0.8125Epoch 1/25\n",
            "10/5 [============================================================] - 0s 10ms/sample - loss: 0.6516 - acc: 0.9000\n",
            "5/5 [==============================] - 1s 100ms/step - loss: 0.5110 - acc: 0.8250 - val_loss: 0.6104 - val_acc: 0.9000\n",
            "Epoch 11/25\n",
            "4/5 [=======================>......] - ETA: 0s - loss: 0.5213 - acc: 0.8750Epoch 1/25\n",
            "10/5 [============================================================] - 0s 8ms/sample - loss: 0.6516 - acc: 0.9000\n",
            "5/5 [==============================] - 1s 100ms/step - loss: 0.5266 - acc: 0.8500 - val_loss: 0.6042 - val_acc: 0.9000\n",
            "Epoch 12/25\n",
            "4/5 [=======================>......] - ETA: 0s - loss: 0.5327 - acc: 0.7812Epoch 1/25\n",
            "10/5 [============================================================] - 0s 10ms/sample - loss: 0.6648 - acc: 0.9000\n",
            "5/5 [==============================] - 1s 122ms/step - loss: 0.5385 - acc: 0.7500 - val_loss: 0.6059 - val_acc: 0.9000\n",
            "Epoch 13/25\n",
            "4/5 [=======================>......] - ETA: 0s - loss: 0.4947 - acc: 0.8125Epoch 1/25\n",
            "10/5 [============================================================] - 0s 9ms/sample - loss: 0.6494 - acc: 0.9000\n",
            "5/5 [==============================] - 1s 108ms/step - loss: 0.5098 - acc: 0.7750 - val_loss: 0.5911 - val_acc: 0.9000\n",
            "Epoch 14/25\n",
            "4/5 [=======================>......] - ETA: 0s - loss: 0.5038 - acc: 0.7812Epoch 1/25\n",
            "10/5 [============================================================] - 0s 8ms/sample - loss: 0.6301 - acc: 0.8000\n",
            "5/5 [==============================] - 0s 97ms/step - loss: 0.5019 - acc: 0.7750 - val_loss: 0.5768 - val_acc: 0.8000\n",
            "Epoch 15/25\n",
            "4/5 [=======================>......] - ETA: 0s - loss: 0.4327 - acc: 0.8438Epoch 1/25\n",
            "10/5 [============================================================] - 0s 8ms/sample - loss: 0.6299 - acc: 0.9000\n",
            "5/5 [==============================] - 1s 101ms/step - loss: 0.4511 - acc: 0.8250 - val_loss: 0.5698 - val_acc: 0.9000\n",
            "Epoch 16/25\n",
            "4/5 [=======================>......] - ETA: 0s - loss: 0.4542 - acc: 0.8750Epoch 1/25\n",
            "10/5 [============================================================] - 0s 9ms/sample - loss: 0.6200 - acc: 0.9000\n",
            "5/5 [==============================] - 0s 98ms/step - loss: 0.4362 - acc: 0.9000 - val_loss: 0.5601 - val_acc: 0.9000\n",
            "Epoch 17/25\n",
            "4/5 [=======================>......] - ETA: 0s - loss: 0.4511 - acc: 0.8125Epoch 1/25\n",
            "10/5 [============================================================] - 0s 8ms/sample - loss: 0.6165 - acc: 0.9000\n",
            "5/5 [==============================] - 0s 98ms/step - loss: 0.4969 - acc: 0.7750 - val_loss: 0.5526 - val_acc: 0.9000\n",
            "Epoch 18/25\n",
            "4/5 [=======================>......] - ETA: 0s - loss: 0.4697 - acc: 0.8438Epoch 1/25\n",
            "10/5 [============================================================] - 0s 8ms/sample - loss: 0.6108 - acc: 0.9000\n",
            "5/5 [==============================] - 1s 108ms/step - loss: 0.4882 - acc: 0.8250 - val_loss: 0.5431 - val_acc: 0.9000\n",
            "Epoch 19/25\n",
            "4/5 [=======================>......] - ETA: 0s - loss: 0.4049 - acc: 0.8438Epoch 1/25\n",
            "10/5 [============================================================] - 0s 8ms/sample - loss: 0.6132 - acc: 0.9000\n",
            "5/5 [==============================] - 1s 112ms/step - loss: 0.4244 - acc: 0.8500 - val_loss: 0.5381 - val_acc: 0.9000\n",
            "Epoch 20/25\n",
            "4/5 [=======================>......] - ETA: 0s - loss: 0.4568 - acc: 0.8125Epoch 1/25\n",
            "10/5 [============================================================] - 0s 9ms/sample - loss: 0.6003 - acc: 0.9000\n",
            "5/5 [==============================] - 1s 100ms/step - loss: 0.4432 - acc: 0.8000 - val_loss: 0.5260 - val_acc: 0.9000\n",
            "Epoch 21/25\n",
            "4/5 [=======================>......] - ETA: 0s - loss: 0.4157 - acc: 0.7812Epoch 1/25\n",
            "10/5 [============================================================] - 0s 8ms/sample - loss: 0.5912 - acc: 0.9000\n",
            "5/5 [==============================] - 1s 105ms/step - loss: 0.4100 - acc: 0.8250 - val_loss: 0.5171 - val_acc: 0.9000\n",
            "Epoch 22/25\n",
            "4/5 [=======================>......] - ETA: 0s - loss: 0.3687 - acc: 0.8750Epoch 1/25\n",
            "10/5 [============================================================] - 0s 8ms/sample - loss: 0.5873 - acc: 0.9000\n",
            "5/5 [==============================] - 1s 117ms/step - loss: 0.4007 - acc: 0.8500 - val_loss: 0.5105 - val_acc: 0.9000\n",
            "Epoch 23/25\n",
            "4/5 [=======================>......] - ETA: 0s - loss: 0.3928 - acc: 0.9062Epoch 1/25\n",
            "10/5 [============================================================] - 0s 9ms/sample - loss: 0.5868 - acc: 0.9000\n",
            "5/5 [==============================] - 1s 108ms/step - loss: 0.4063 - acc: 0.9000 - val_loss: 0.5054 - val_acc: 0.9000\n",
            "Epoch 24/25\n",
            "4/5 [=======================>......] - ETA: 0s - loss: 0.3901 - acc: 0.9688Epoch 1/25\n",
            "10/5 [============================================================] - 0s 9ms/sample - loss: 0.5862 - acc: 0.9000\n",
            "5/5 [==============================] - 0s 99ms/step - loss: 0.3668 - acc: 0.9750 - val_loss: 0.5006 - val_acc: 0.9000\n",
            "Epoch 25/25\n",
            "4/5 [=======================>......] - ETA: 0s - loss: 0.4033 - acc: 0.9062Epoch 1/25\n",
            "10/5 [============================================================] - 0s 8ms/sample - loss: 0.5658 - acc: 0.9000\n",
            "5/5 [==============================] - 1s 111ms/step - loss: 0.3876 - acc: 0.9000 - val_loss: 0.4905 - val_acc: 0.9000\n"
          ],
          "name": "stdout"
        }
      ]
    },
    {
      "cell_type": "code",
      "metadata": {
        "id": "zIa_QHSEpqjW",
        "colab_type": "code",
        "colab": {
          "base_uri": "https://localhost:8080/",
          "height": 187
        },
        "outputId": "3ec63e47-c981-4e13-a084-3b8febb89b57"
      },
      "source": [
        "# make predictions on the testing set\n",
        "print(\"[INFO] evaluating network...\")\n",
        "predIdxs = model.predict(testX, batch_size=BS)\n",
        "\n",
        "# for each image in the testing set we need to find the index of the\n",
        "# label with corresponding largest predicted probability\n",
        "predIdxs = np.argmax(predIdxs, axis=1)\n",
        "\n",
        "# show a nicely formatted classification report\n",
        "print(classification_report(testY.argmax(axis=1), predIdxs,\n",
        "\ttarget_names=lb.classes_))"
      ],
      "execution_count": null,
      "outputs": [
        {
          "output_type": "stream",
          "text": [
            "[INFO] evaluating network...\n",
            "              precision    recall  f1-score   support\n",
            "\n",
            "       covid       1.00      0.80      0.89         5\n",
            "      normal       0.83      1.00      0.91         5\n",
            "\n",
            "    accuracy                           0.90        10\n",
            "   macro avg       0.92      0.90      0.90        10\n",
            "weighted avg       0.92      0.90      0.90        10\n",
            "\n"
          ],
          "name": "stdout"
        }
      ]
    },
    {
      "cell_type": "code",
      "metadata": {
        "id": "XkdzAPvTp2PC",
        "colab_type": "code",
        "colab": {
          "base_uri": "https://localhost:8080/",
          "height": 119
        },
        "outputId": "3425ec98-b6e6-44aa-8244-d05ef8e13261"
      },
      "source": [
        "\n",
        "# compute the confusion matrix and and use it to derive the raw\n",
        "# accuracy, sensitivity, and specificity\n",
        "cm = confusion_matrix(testY.argmax(axis=1), predIdxs)\n",
        "total = sum(sum(cm))\n",
        "acc = (cm[0, 0] + cm[1, 1]) / total\n",
        "sensitivity = cm[0, 0] / (cm[0, 0] + cm[0, 1])\n",
        "specificity = cm[1, 1] / (cm[1, 0] + cm[1, 1])\n",
        "\n",
        "# show the confusion matrix, accuracy, sensitivity, and specificity\n",
        "print(cm)\n",
        "print(\"acc: {:.4f}\".format(acc))\n",
        "print(\"sensitivity: {:.4f}\".format(sensitivity))\n",
        "print(\"specificity: {:.4f}\".format(specificity))\n",
        "\n",
        "# plot the training loss and accuracy\n",
        "# N = EPOCHS\n",
        "# plt.style.use(\"ggplot\")\n",
        "# plt.figure()\n",
        "# plt.plot(np.arange(0, N), H.history[\"loss\"], label=\"train_loss\")\n",
        "# plt.plot(np.arange(0, N), H.history[\"val_loss\"], label=\"val_loss\")\n",
        "# plt.plot(np.arange(0, N), H.history[\"accuracy\"], label=\"train_acc\")\n",
        "# plt.plot(np.arange(0, N), H.history[\"val_accuracy\"], label=\"val_acc\")\n",
        "# plt.title(\"Training Loss and Accuracy on COVID-19 Dataset\")\n",
        "# plt.xlabel(\"Epoch #\")\n",
        "# plt.ylabel(\"Loss/Accuracy\")\n",
        "# plt.legend(loc=\"lower left\")\n",
        "# plt.savefig(args[\"plot\"])\n",
        "\n",
        "# serialize the model to disk\n",
        "print(\"[INFO] saving COVID-19 detector model...\")\n",
        "model.save('/content/drive/My Drive/Covid/models', save_format=\"h5\")"
      ],
      "execution_count": null,
      "outputs": [
        {
          "output_type": "stream",
          "text": [
            "[[4 1]\n",
            " [0 5]]\n",
            "acc: 0.9000\n",
            "sensitivity: 0.8000\n",
            "specificity: 1.0000\n",
            "[INFO] saving COVID-19 detector model...\n"
          ],
          "name": "stdout"
        }
      ]
    }
  ]
}